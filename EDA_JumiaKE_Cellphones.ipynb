{
 "cells": [
  {
   "cell_type": "markdown",
   "metadata": {
    "id": "MujgjVFbyV2B"
   },
   "source": [
    "\n",
    "# Exploring Smartphone Trends on Jumia Kenya\n",
    "\n",
    "Jumia, one of Africa's largest online shopping platforms, serves as a hub for diverse products, including a vast selection of smartphones. This project dives deep into the smartphone category by web scraping data from all 50 pages of phone listings on the platform.\n",
    "\n",
    "The scraped data undergoes cleaning and preparation for analysis, using techniques like Natural Language Processing (NLP) to refine and extract valuable insights. The ultimate goal is to uncover patterns and trends in smartphone sales, such as price ranges, popular brands, and feature preferences. This exploration offers a comprehensive look into the dynamics of smartphone sales on Jumia Kenya, providing actionable insights for potential buyers, sellers, and market analysts."
   ]
  },
  {
   "cell_type": "markdown",
   "metadata": {
    "id": "FrLtBfMcynly"
   },
   "source": [
    "## 1. Scraping the data.\n",
    "The data will be scraped from all pages of the Jumia Kenya smartphones category using the URL: \"https://www.jumia.co.ke/smartphones/?shipped_from=country_local&page=\".\n"
   ]
  },
  {
   "cell_type": "code",
   "execution_count": 1,
   "metadata": {
    "id": "ge2cJyhVy4ey"
   },
   "outputs": [],
   "source": [
    "# Importing required libraries\n",
    "import requests\n",
    "from bs4 import BeautifulSoup as bs\n",
    "import matplotlib.pyplot as plt\n",
    "import numpy as np\n",
    "import pandas as pd"
   ]
  },
  {
   "cell_type": "code",
   "execution_count": 2,
   "metadata": {
    "id": "0TeEO6gXy935"
   },
   "outputs": [],
   "source": [
    "page = 1\n",
    "names = []\n",
    "prices = []\n",
    "\n",
    "while page != 6:\n",
    "    url = f\"https://www.jumia.co.ke/smartphones/?shipped_from=country_local&page={page}\"\n",
    "    response = requests.get(url)\n",
    "    html = response.content\n",
    "    soup = bs(html, \"html.parser\")\n",
    "\n",
    "\n",
    "    for product_block in soup.find_all(\"a\", class_=\"core\"):\n",
    "        name = product_block.find(\"h3\", class_=\"name\").text.strip()\n",
    "        price = product_block.find(\"div\", class_=\"prc\").text.strip()\n",
    "        names.append(name)\n",
    "        prices.append(price)\n",
    "\n",
    "    page = page + 1"
   ]
  },
  {
   "cell_type": "code",
   "execution_count": 3,
   "metadata": {
    "id": "1jaJCpmX061l"
   },
   "outputs": [],
   "source": [
    "phone_df = pd.DataFrame({\"Name\": names, \"Price\": prices})"
   ]
  },
  {
   "cell_type": "markdown",
   "metadata": {
    "id": "pn6S0Q-o1HDd"
   },
   "source": [
    "* Previewing the data"
   ]
  },
  {
   "cell_type": "code",
   "execution_count": 4,
   "metadata": {
    "colab": {
     "base_uri": "https://localhost:8080/",
     "height": 363
    },
    "id": "MAaSjdeR1E7M",
    "outputId": "e8a62741-9ecb-4dcb-bfac-901d11df6b0e"
   },
   "outputs": [
    {
     "data": {
      "text/html": [
       "<div>\n",
       "<style scoped>\n",
       "    .dataframe tbody tr th:only-of-type {\n",
       "        vertical-align: middle;\n",
       "    }\n",
       "\n",
       "    .dataframe tbody tr th {\n",
       "        vertical-align: top;\n",
       "    }\n",
       "\n",
       "    .dataframe thead th {\n",
       "        text-align: right;\n",
       "    }\n",
       "</style>\n",
       "<table border=\"1\" class=\"dataframe\">\n",
       "  <thead>\n",
       "    <tr style=\"text-align: right;\">\n",
       "      <th></th>\n",
       "      <th>Name</th>\n",
       "      <th>Price</th>\n",
       "    </tr>\n",
       "  </thead>\n",
       "  <tbody>\n",
       "    <tr>\n",
       "      <th>0</th>\n",
       "      <td>Infinix Hot 50i, 6.7\", 128GB + 6GB RAM, 5000 m...</td>\n",
       "      <td>KSh 12,899</td>\n",
       "    </tr>\n",
       "    <tr>\n",
       "      <th>1</th>\n",
       "      <td>Tecno POP 9 120Hz 6.67\" 128GB ROM+3GB RAM*(+3G...</td>\n",
       "      <td>KSh 10,999</td>\n",
       "    </tr>\n",
       "    <tr>\n",
       "      <th>2</th>\n",
       "      <td>XIAOMI Redmi 14C, 6.88\" (4GB RAM+128GB Storage...</td>\n",
       "      <td>KSh 12,999</td>\n",
       "    </tr>\n",
       "    <tr>\n",
       "      <th>3</th>\n",
       "      <td>Infinix Smart 8 6.6\" HD, 2GB RAM + 64GB , Andr...</td>\n",
       "      <td>KSh 8,399</td>\n",
       "    </tr>\n",
       "    <tr>\n",
       "      <th>4</th>\n",
       "      <td>XIAOMI Redmi A3x, 6.71\", 64GB + 3GB RAM (Dual ...</td>\n",
       "      <td>KSh 8,999</td>\n",
       "    </tr>\n",
       "    <tr>\n",
       "      <th>5</th>\n",
       "      <td>Samsung Galaxy A04e 32GB ROM 3GB RAM 6.5'' 500...</td>\n",
       "      <td>KSh 9,095</td>\n",
       "    </tr>\n",
       "    <tr>\n",
       "      <th>6</th>\n",
       "      <td>XIAOMI A3 Pro, 6.88\", 4GB RAM + 128GB (Dual Si...</td>\n",
       "      <td>KSh 11,799</td>\n",
       "    </tr>\n",
       "    <tr>\n",
       "      <th>7</th>\n",
       "      <td>Infinix Smart 8 6.6\" HD, 2GB RAM + 64GB , Andr...</td>\n",
       "      <td>KSh 8,399</td>\n",
       "    </tr>\n",
       "    <tr>\n",
       "      <th>8</th>\n",
       "      <td>Infinix Smart 8 6.6\" HD, 2GB RAM + 64GB , Andr...</td>\n",
       "      <td>KSh 8,399</td>\n",
       "    </tr>\n",
       "    <tr>\n",
       "      <th>9</th>\n",
       "      <td>Tecno Spark 20C, 6.6'', 256GB + 4GB RAM + (8GB...</td>\n",
       "      <td>KSh 13,499</td>\n",
       "    </tr>\n",
       "  </tbody>\n",
       "</table>\n",
       "</div>"
      ],
      "text/plain": [
       "                                                Name       Price\n",
       "0  Infinix Hot 50i, 6.7\", 128GB + 6GB RAM, 5000 m...  KSh 12,899\n",
       "1  Tecno POP 9 120Hz 6.67\" 128GB ROM+3GB RAM*(+3G...  KSh 10,999\n",
       "2  XIAOMI Redmi 14C, 6.88\" (4GB RAM+128GB Storage...  KSh 12,999\n",
       "3  Infinix Smart 8 6.6\" HD, 2GB RAM + 64GB , Andr...   KSh 8,399\n",
       "4  XIAOMI Redmi A3x, 6.71\", 64GB + 3GB RAM (Dual ...   KSh 8,999\n",
       "5  Samsung Galaxy A04e 32GB ROM 3GB RAM 6.5'' 500...   KSh 9,095\n",
       "6  XIAOMI A3 Pro, 6.88\", 4GB RAM + 128GB (Dual Si...  KSh 11,799\n",
       "7  Infinix Smart 8 6.6\" HD, 2GB RAM + 64GB , Andr...   KSh 8,399\n",
       "8  Infinix Smart 8 6.6\" HD, 2GB RAM + 64GB , Andr...   KSh 8,399\n",
       "9  Tecno Spark 20C, 6.6'', 256GB + 4GB RAM + (8GB...  KSh 13,499"
      ]
     },
     "execution_count": 4,
     "metadata": {},
     "output_type": "execute_result"
    }
   ],
   "source": [
    "phone_df.head(10)"
   ]
  },
  {
   "cell_type": "code",
   "execution_count": 5,
   "metadata": {
    "colab": {
     "base_uri": "https://localhost:8080/"
    },
    "id": "g_xQz5BD1O52",
    "outputId": "fe7efcc6-142c-47de-dfa8-46c322a2c5f8"
   },
   "outputs": [
    {
     "data": {
      "text/plain": [
       "Name     object\n",
       "Price    object\n",
       "dtype: object"
      ]
     },
     "execution_count": 5,
     "metadata": {},
     "output_type": "execute_result"
    }
   ],
   "source": [
    "phone_df.dtypes"
   ]
  },
  {
   "cell_type": "markdown",
   "metadata": {
    "id": "-m8rPo3O1WC7"
   },
   "source": [
    "* Checking for NA in the dataset"
   ]
  },
  {
   "cell_type": "code",
   "execution_count": 6,
   "metadata": {
    "colab": {
     "base_uri": "https://localhost:8080/"
    },
    "id": "MCvOvO5q1Tsl",
    "outputId": "514e0d79-3850-4bc9-d3e1-10281ca5f55c"
   },
   "outputs": [
    {
     "data": {
      "text/plain": [
       "Name     0\n",
       "Price    0\n",
       "dtype: int64"
      ]
     },
     "execution_count": 6,
     "metadata": {},
     "output_type": "execute_result"
    }
   ],
   "source": [
    "phone_df.isnull().sum()"
   ]
  },
  {
   "cell_type": "markdown",
   "metadata": {
    "id": "VK6Xov5N1fkX"
   },
   "source": [
    "* Checking for duplicates in the dataset"
   ]
  },
  {
   "cell_type": "code",
   "execution_count": 7,
   "metadata": {
    "colab": {
     "base_uri": "https://localhost:8080/"
    },
    "id": "SmonWCnr1ePz",
    "outputId": "55d2ee0e-00be-4f0c-b31c-4dc02c9b502a"
   },
   "outputs": [
    {
     "data": {
      "text/plain": [
       "2"
      ]
     },
     "execution_count": 7,
     "metadata": {},
     "output_type": "execute_result"
    }
   ],
   "source": [
    "phone_df.duplicated().sum()"
   ]
  },
  {
   "cell_type": "markdown",
   "metadata": {
    "id": "hFrvdJ0F1-Th"
   },
   "source": [
    "* There is only one duplicate as at this time. I will remove the duplicate."
   ]
  },
  {
   "cell_type": "code",
   "execution_count": 8,
   "metadata": {
    "id": "gq9xCtDj2LGV"
   },
   "outputs": [],
   "source": [
    "phone_df=phone_df.drop_duplicates()"
   ]
  },
  {
   "cell_type": "code",
   "execution_count": 9,
   "metadata": {
    "colab": {
     "base_uri": "https://localhost:8080/"
    },
    "id": "0RdC0Piw2Qfg",
    "outputId": "11728ba4-8b99-474f-a96b-028adef45235"
   },
   "outputs": [
    {
     "data": {
      "text/plain": [
       "0"
      ]
     },
     "execution_count": 9,
     "metadata": {},
     "output_type": "execute_result"
    }
   ],
   "source": [
    "phone_df.duplicated().sum()"
   ]
  },
  {
   "cell_type": "markdown",
   "metadata": {
    "id": "vNgICyF32YiH"
   },
   "source": [
    "* I will convert the price column to numeric to be able to perform some manipulations and analysis. To do this, I will need to remove the money symbol."
   ]
  },
  {
   "cell_type": "code",
   "execution_count": 10,
   "metadata": {
    "colab": {
     "base_uri": "https://localhost:8080/",
     "height": 206
    },
    "id": "sGgN0Hyf2Xin",
    "outputId": "ebe5eb46-6cf9-4b97-b639-e00b1d118b75"
   },
   "outputs": [
    {
     "data": {
      "text/html": [
       "<div>\n",
       "<style scoped>\n",
       "    .dataframe tbody tr th:only-of-type {\n",
       "        vertical-align: middle;\n",
       "    }\n",
       "\n",
       "    .dataframe tbody tr th {\n",
       "        vertical-align: top;\n",
       "    }\n",
       "\n",
       "    .dataframe thead th {\n",
       "        text-align: right;\n",
       "    }\n",
       "</style>\n",
       "<table border=\"1\" class=\"dataframe\">\n",
       "  <thead>\n",
       "    <tr style=\"text-align: right;\">\n",
       "      <th></th>\n",
       "      <th>Name</th>\n",
       "      <th>Price</th>\n",
       "    </tr>\n",
       "  </thead>\n",
       "  <tbody>\n",
       "    <tr>\n",
       "      <th>0</th>\n",
       "      <td>Infinix Hot 50i, 6.7\", 128GB + 6GB RAM, 5000 m...</td>\n",
       "      <td>12899</td>\n",
       "    </tr>\n",
       "    <tr>\n",
       "      <th>1</th>\n",
       "      <td>Tecno POP 9 120Hz 6.67\" 128GB ROM+3GB RAM*(+3G...</td>\n",
       "      <td>10999</td>\n",
       "    </tr>\n",
       "    <tr>\n",
       "      <th>2</th>\n",
       "      <td>XIAOMI Redmi 14C, 6.88\" (4GB RAM+128GB Storage...</td>\n",
       "      <td>12999</td>\n",
       "    </tr>\n",
       "    <tr>\n",
       "      <th>3</th>\n",
       "      <td>Infinix Smart 8 6.6\" HD, 2GB RAM + 64GB , Andr...</td>\n",
       "      <td>8399</td>\n",
       "    </tr>\n",
       "    <tr>\n",
       "      <th>4</th>\n",
       "      <td>XIAOMI Redmi A3x, 6.71\", 64GB + 3GB RAM (Dual ...</td>\n",
       "      <td>8999</td>\n",
       "    </tr>\n",
       "  </tbody>\n",
       "</table>\n",
       "</div>"
      ],
      "text/plain": [
       "                                                Name  Price\n",
       "0  Infinix Hot 50i, 6.7\", 128GB + 6GB RAM, 5000 m...  12899\n",
       "1  Tecno POP 9 120Hz 6.67\" 128GB ROM+3GB RAM*(+3G...  10999\n",
       "2  XIAOMI Redmi 14C, 6.88\" (4GB RAM+128GB Storage...  12999\n",
       "3  Infinix Smart 8 6.6\" HD, 2GB RAM + 64GB , Andr...   8399\n",
       "4  XIAOMI Redmi A3x, 6.71\", 64GB + 3GB RAM (Dual ...   8999"
      ]
     },
     "execution_count": 10,
     "metadata": {},
     "output_type": "execute_result"
    }
   ],
   "source": [
    "phone_df['Price'] = phone_df['Price'].str.replace('KSh', '').str.replace(',', '')\n",
    "phone_df['Price'] = pd.to_numeric(phone_df['Price'])\n",
    "\n",
    "phone_df.head()"
   ]
  },
  {
   "cell_type": "code",
   "execution_count": 11,
   "metadata": {
    "colab": {
     "base_uri": "https://localhost:8080/"
    },
    "id": "MgZx42ku3dRt",
    "outputId": "db56a467-d6ff-44dc-af53-f0a00630fc13"
   },
   "outputs": [
    {
     "data": {
      "text/plain": [
       "Name     Badili Samsung Galaxy A20 Black, 32GB/3GB,Sing...\n",
       "Price                                                 4700\n",
       "dtype: object"
      ]
     },
     "execution_count": 11,
     "metadata": {},
     "output_type": "execute_result"
    }
   ],
   "source": [
    "phone_df.min()"
   ]
  },
  {
   "cell_type": "markdown",
   "metadata": {
    "id": "Ijsfl6zb3kol"
   },
   "source": [
    "- For this project,my focus is to only do analysis on phones and not accessories. I will assume that any item with a price of less than KSH 6000 is an accessory."
   ]
  },
  {
   "cell_type": "code",
   "execution_count": 12,
   "metadata": {
    "id": "8nml3-tq2mb-"
   },
   "outputs": [],
   "source": [
    "accessories = phone_df[phone_df['Price'] < 6300]\n",
    "phone_df=phone_df[phone_df['Price'] >= 6300]"
   ]
  },
  {
   "cell_type": "markdown",
   "metadata": {
    "id": "CVzwyqRZ5XU3"
   },
   "source": [
    "* I will extract  more features from the 'Name' column using Natural Language Processing. \n",
    "\n",
    "* Extracting the brand:\n"
   ]
  },
  {
   "cell_type": "code",
   "execution_count": 13,
   "metadata": {
    "colab": {
     "base_uri": "https://localhost:8080/"
    },
    "id": "lIxABw9R5uEX",
    "outputId": "5aaba8f3-45d9-4c98-81b9-47e459af3547"
   },
   "outputs": [
    {
     "name": "stderr",
     "output_type": "stream",
     "text": [
      "[nltk_data] Downloading package punkt to\n",
      "[nltk_data]     C:\\Users\\sinti\\AppData\\Roaming\\nltk_data...\n",
      "[nltk_data]   Package punkt is already up-to-date!\n"
     ]
    }
   ],
   "source": [
    "from nltk.tokenize import word_tokenize #to create word tokens\n",
    "import nltk\n",
    "nltk.download('punkt')\n",
    "import re"
   ]
  },
  {
   "cell_type": "code",
   "execution_count": 14,
   "metadata": {
    "id": "8t4ypYFG4awm"
   },
   "outputs": [],
   "source": [
    "phone_brands = ['infinix', 'xiaomi', 'tecno', 'samsung', 'oppo', 'apple',\n",
    "                'blackview', 'vivo', 'huawei', 'itel', 'realme', 'nokia',\n",
    "                'x tigi', 'poco', 'one plus', 'freeyond', 'maxfone', 'umidigi','sowhat',\n",
    "                'oale','safaricom']\n",
    "def getbrand(name):\n",
    "    name = name.lower()\n",
    "    word_tokens = word_tokenize(name)\n",
    "    brand = [char for char in word_tokens if char in phone_brands]\n",
    "    return ''.join(brand)"
   ]
  },
  {
   "cell_type": "code",
   "execution_count": 15,
   "metadata": {
    "id": "1rhRZZeP6IPn"
   },
   "outputs": [],
   "source": [
    "phone_df['Brand']= phone_df['Name'].apply(getbrand)"
   ]
  },
  {
   "cell_type": "code",
   "execution_count": 16,
   "metadata": {
    "colab": {
     "base_uri": "https://localhost:8080/",
     "height": 206
    },
    "id": "c0dGgm516M5U",
    "outputId": "816ab7d9-f50c-47d6-92f2-a41221a5cc53"
   },
   "outputs": [
    {
     "data": {
      "text/html": [
       "<div>\n",
       "<style scoped>\n",
       "    .dataframe tbody tr th:only-of-type {\n",
       "        vertical-align: middle;\n",
       "    }\n",
       "\n",
       "    .dataframe tbody tr th {\n",
       "        vertical-align: top;\n",
       "    }\n",
       "\n",
       "    .dataframe thead th {\n",
       "        text-align: right;\n",
       "    }\n",
       "</style>\n",
       "<table border=\"1\" class=\"dataframe\">\n",
       "  <thead>\n",
       "    <tr style=\"text-align: right;\">\n",
       "      <th></th>\n",
       "      <th>Name</th>\n",
       "      <th>Price</th>\n",
       "      <th>Brand</th>\n",
       "    </tr>\n",
       "  </thead>\n",
       "  <tbody>\n",
       "    <tr>\n",
       "      <th>0</th>\n",
       "      <td>Infinix Hot 50i, 6.7\", 128GB + 6GB RAM, 5000 m...</td>\n",
       "      <td>12899</td>\n",
       "      <td>infinix</td>\n",
       "    </tr>\n",
       "    <tr>\n",
       "      <th>1</th>\n",
       "      <td>Tecno POP 9 120Hz 6.67\" 128GB ROM+3GB RAM*(+3G...</td>\n",
       "      <td>10999</td>\n",
       "      <td>tecno</td>\n",
       "    </tr>\n",
       "    <tr>\n",
       "      <th>2</th>\n",
       "      <td>XIAOMI Redmi 14C, 6.88\" (4GB RAM+128GB Storage...</td>\n",
       "      <td>12999</td>\n",
       "      <td>xiaomi</td>\n",
       "    </tr>\n",
       "    <tr>\n",
       "      <th>3</th>\n",
       "      <td>Infinix Smart 8 6.6\" HD, 2GB RAM + 64GB , Andr...</td>\n",
       "      <td>8399</td>\n",
       "      <td>infinix</td>\n",
       "    </tr>\n",
       "    <tr>\n",
       "      <th>4</th>\n",
       "      <td>XIAOMI Redmi A3x, 6.71\", 64GB + 3GB RAM (Dual ...</td>\n",
       "      <td>8999</td>\n",
       "      <td>xiaomi</td>\n",
       "    </tr>\n",
       "  </tbody>\n",
       "</table>\n",
       "</div>"
      ],
      "text/plain": [
       "                                                Name  Price    Brand\n",
       "0  Infinix Hot 50i, 6.7\", 128GB + 6GB RAM, 5000 m...  12899  infinix\n",
       "1  Tecno POP 9 120Hz 6.67\" 128GB ROM+3GB RAM*(+3G...  10999    tecno\n",
       "2  XIAOMI Redmi 14C, 6.88\" (4GB RAM+128GB Storage...  12999   xiaomi\n",
       "3  Infinix Smart 8 6.6\" HD, 2GB RAM + 64GB , Andr...   8399  infinix\n",
       "4  XIAOMI Redmi A3x, 6.71\", 64GB + 3GB RAM (Dual ...   8999   xiaomi"
      ]
     },
     "execution_count": 16,
     "metadata": {},
     "output_type": "execute_result"
    }
   ],
   "source": [
    "phone_df.head()"
   ]
  },
  {
   "cell_type": "code",
   "execution_count": 17,
   "metadata": {
    "colab": {
     "base_uri": "https://localhost:8080/",
     "height": 81
    },
    "id": "AZk2BI6J6W0W",
    "outputId": "b2b7ed87-dc57-405c-9c34-be7820f89b90"
   },
   "outputs": [
    {
     "data": {
      "text/html": [
       "<div>\n",
       "<style scoped>\n",
       "    .dataframe tbody tr th:only-of-type {\n",
       "        vertical-align: middle;\n",
       "    }\n",
       "\n",
       "    .dataframe tbody tr th {\n",
       "        vertical-align: top;\n",
       "    }\n",
       "\n",
       "    .dataframe thead th {\n",
       "        text-align: right;\n",
       "    }\n",
       "</style>\n",
       "<table border=\"1\" class=\"dataframe\">\n",
       "  <thead>\n",
       "    <tr style=\"text-align: right;\">\n",
       "      <th></th>\n",
       "      <th>Name</th>\n",
       "      <th>Price</th>\n",
       "      <th>Brand</th>\n",
       "    </tr>\n",
       "  </thead>\n",
       "  <tbody>\n",
       "    <tr>\n",
       "      <th>98</th>\n",
       "      <td>X Tigi Bison1-4G Lte-Octa Core-6GB Ram-128Gb -...</td>\n",
       "      <td>8999</td>\n",
       "      <td></td>\n",
       "    </tr>\n",
       "    <tr>\n",
       "      <th>99</th>\n",
       "      <td>X Tigi S7-4G Lte-Octa Core-4G Ram-128G Rom -16...</td>\n",
       "      <td>8899</td>\n",
       "      <td></td>\n",
       "    </tr>\n",
       "  </tbody>\n",
       "</table>\n",
       "</div>"
      ],
      "text/plain": [
       "                                                 Name  Price Brand\n",
       "98  X Tigi Bison1-4G Lte-Octa Core-6GB Ram-128Gb -...   8999      \n",
       "99  X Tigi S7-4G Lte-Octa Core-4G Ram-128G Rom -16...   8899      "
      ]
     },
     "execution_count": 17,
     "metadata": {},
     "output_type": "execute_result"
    }
   ],
   "source": [
    "phone_df[phone_df['Brand']=='']"
   ]
  },
  {
   "cell_type": "markdown",
   "metadata": {
    "id": "nPWY6Bdw8COw"
   },
   "source": [
    "* Removing empty cells:"
   ]
  },
  {
   "cell_type": "code",
   "execution_count": 18,
   "metadata": {
    "id": "XaVIzM-28U7E"
   },
   "outputs": [],
   "source": [
    "phone_df.replace('',np.nan, inplace=True)"
   ]
  },
  {
   "cell_type": "code",
   "execution_count": 19,
   "metadata": {
    "id": "Y5UIwcLr8cez"
   },
   "outputs": [],
   "source": [
    "phone_df=phone_df.dropna()"
   ]
  },
  {
   "cell_type": "markdown",
   "metadata": {
    "id": "DdR2J3eM8xFo"
   },
   "source": [
    "* I will replace plus sign (+) with a hyphen."
   ]
  },
  {
   "cell_type": "code",
   "execution_count": 20,
   "metadata": {
    "colab": {
     "base_uri": "https://localhost:8080/",
     "height": 244
    },
    "id": "BdfFqtAK9Btw",
    "outputId": "52f4e6b3-a810-4f95-bd06-32fddeba36f7"
   },
   "outputs": [
    {
     "name": "stderr",
     "output_type": "stream",
     "text": [
      "C:\\Users\\sinti\\anaconda3\\envs\\rstudio\\lib\\site-packages\\ipykernel_launcher.py:1: FutureWarning: The default value of regex will change from True to False in a future version.\n",
      "  \"\"\"Entry point for launching an IPython kernel.\n"
     ]
    },
    {
     "data": {
      "text/html": [
       "<div>\n",
       "<style scoped>\n",
       "    .dataframe tbody tr th:only-of-type {\n",
       "        vertical-align: middle;\n",
       "    }\n",
       "\n",
       "    .dataframe tbody tr th {\n",
       "        vertical-align: top;\n",
       "    }\n",
       "\n",
       "    .dataframe thead th {\n",
       "        text-align: right;\n",
       "    }\n",
       "</style>\n",
       "<table border=\"1\" class=\"dataframe\">\n",
       "  <thead>\n",
       "    <tr style=\"text-align: right;\">\n",
       "      <th></th>\n",
       "      <th>Name</th>\n",
       "      <th>Price</th>\n",
       "      <th>Brand</th>\n",
       "    </tr>\n",
       "  </thead>\n",
       "  <tbody>\n",
       "    <tr>\n",
       "      <th>0</th>\n",
       "      <td>Infinix Hot 50i, 6.7\", 128GB + 6GB RAM, 5000 m...</td>\n",
       "      <td>12899</td>\n",
       "      <td>infinix</td>\n",
       "    </tr>\n",
       "    <tr>\n",
       "      <th>1</th>\n",
       "      <td>Tecno POP 9 120Hz 6.67\" 128GB ROM+3GB RAM*(+3G...</td>\n",
       "      <td>10999</td>\n",
       "      <td>tecno</td>\n",
       "    </tr>\n",
       "    <tr>\n",
       "      <th>2</th>\n",
       "      <td>XIAOMI Redmi 14C, 6.88\" (4GB RAM+128GB Storage...</td>\n",
       "      <td>12999</td>\n",
       "      <td>xiaomi</td>\n",
       "    </tr>\n",
       "    <tr>\n",
       "      <th>3</th>\n",
       "      <td>Infinix Smart 8 6.6\" HD, 2GB RAM + 64GB , Andr...</td>\n",
       "      <td>8399</td>\n",
       "      <td>infinix</td>\n",
       "    </tr>\n",
       "    <tr>\n",
       "      <th>4</th>\n",
       "      <td>XIAOMI Redmi A3x, 6.71\", 64GB + 3GB RAM (Dual ...</td>\n",
       "      <td>8999</td>\n",
       "      <td>xiaomi</td>\n",
       "    </tr>\n",
       "  </tbody>\n",
       "</table>\n",
       "</div>"
      ],
      "text/plain": [
       "                                                Name  Price    Brand\n",
       "0  Infinix Hot 50i, 6.7\", 128GB + 6GB RAM, 5000 m...  12899  infinix\n",
       "1  Tecno POP 9 120Hz 6.67\" 128GB ROM+3GB RAM*(+3G...  10999    tecno\n",
       "2  XIAOMI Redmi 14C, 6.88\" (4GB RAM+128GB Storage...  12999   xiaomi\n",
       "3  Infinix Smart 8 6.6\" HD, 2GB RAM + 64GB , Andr...   8399  infinix\n",
       "4  XIAOMI Redmi A3x, 6.71\", 64GB + 3GB RAM (Dual ...   8999   xiaomi"
      ]
     },
     "execution_count": 20,
     "metadata": {},
     "output_type": "execute_result"
    }
   ],
   "source": [
    "phone_df['Name'] = phone_df['Name'].str.replace('\\s+\\s', '-')\n",
    "phone_df.head()"
   ]
  },
  {
   "cell_type": "markdown",
   "metadata": {
    "id": "1NtYeCIR9Vrd"
   },
   "source": [
    "* Now I will extarct the RAM size"
   ]
  },
  {
   "cell_type": "code",
   "execution_count": 21,
   "metadata": {
    "id": "Lof6KNMT9T88"
   },
   "outputs": [],
   "source": [
    "words = ['1gb', '2gb', '4gb', '6gb', '8gb', '4ram', '3gb', '1 gb', '6gbram', '12gb', '2G',\n",
    "        '1 ram', '4 gb', '8 gb', '2 gb', '3 gb', '6 gb', '1ram', 'screen2gb', '4gbram',\n",
    "        '[8][+]', '[4][+]', '[6][+]', '[1][\\s][+]', '8gm']\n",
    "\n",
    "\n",
    "def getram2(name):\n",
    "    ram2 = re.findall(r\"\\b({})\\b\".format('|'.join(words)), str(name), flags = re.IGNORECASE)\n",
    "    return ''.join(ram2)"
   ]
  },
  {
   "cell_type": "code",
   "execution_count": 22,
   "metadata": {
    "id": "KFudXc639zUW"
   },
   "outputs": [],
   "source": [
    "phone_df['RAM'] = phone_df['Name'].apply(getram2)"
   ]
  },
  {
   "cell_type": "code",
   "execution_count": 23,
   "metadata": {
    "id": "R7gVSRs49_Fq"
   },
   "outputs": [],
   "source": [
    "phone_df.replace('', np.nan, inplace=True)"
   ]
  },
  {
   "cell_type": "markdown",
   "metadata": {
    "id": "AztSboxR-ImT"
   },
   "source": [
    "* Extracting the storage size :"
   ]
  },
  {
   "cell_type": "code",
   "execution_count": 24,
   "metadata": {
    "id": "3zdHWRNx-Ps_"
   },
   "outputs": [],
   "source": [
    "words = ['16gb', '32gb', '64gb', '128gb', '256gb', '128gbrom', '64rom', '[32][+]',\n",
    "         '16 GB', '32 gb', '64 gb', '128 gb', '256 gb', '128g', '[+][64]', '64g[+]']\n",
    "\n",
    "\n",
    "def getrom(name):\n",
    "    rom=re.findall(r\"\\b({})\\b\".format('|'.join(words)), str(name), flags = re.IGNORECASE)\n",
    "    return ''.join(rom)"
   ]
  },
  {
   "cell_type": "code",
   "execution_count": 25,
   "metadata": {
    "id": "QLvJneOE-iIE"
   },
   "outputs": [],
   "source": [
    "phone_df['ROM'] = phone_df['Name'].apply(getrom)\n",
    "phone_df.replace('', np.nan, inplace=True)"
   ]
  },
  {
   "cell_type": "markdown",
   "metadata": {
    "id": "VlouFGX3-rZN"
   },
   "source": [
    "* Extracting the battery capacity"
   ]
  },
  {
   "cell_type": "code",
   "execution_count": 26,
   "metadata": {
    "id": "dHNJydnM-ruS"
   },
   "outputs": [],
   "source": [
    "words = ['5000mah', '4230mah', '4000mah', '4750mah', '4,020mah', '6000mah', '2500mh', '5050 mah', '4680 mah',\n",
    "         '3240mah', '4323mah', '4500mah', '-5000-', '2400mah', '4400mah', '3000mah', '3020mah', '2500mah']\n",
    "def getbattery(name):\n",
    "    battery = re.findall(r\"\\b({})\\b\".format('|'.join(words)), str(name), flags = re.IGNORECASE)\n",
    "    return ''.join(battery)"
   ]
  },
  {
   "cell_type": "code",
   "execution_count": 27,
   "metadata": {
    "id": "KY6VNROP-z3U"
   },
   "outputs": [],
   "source": [
    "phone_df['battery_size'] = phone_df['Name'].apply(getbattery)\n",
    "phone_df.replace('', np.nan, inplace=True)"
   ]
  },
  {
   "cell_type": "markdown",
   "metadata": {
    "id": "0VzHoGBA_A7t"
   },
   "source": [
    "* Extracting the Screen size"
   ]
  },
  {
   "cell_type": "code",
   "execution_count": 28,
   "metadata": {
    "id": "RZCVz_Oo_AGV"
   },
   "outputs": [],
   "source": [
    "words = ['6\"', '5\"']\n",
    "\n",
    "def getscreen(name):\n",
    "    screen = re.findall('([0-9]+[.]+[0-9]+|\\d+[\"])', str(name))\n",
    "    return ''.join(screen)"
   ]
  },
  {
   "cell_type": "code",
   "execution_count": 29,
   "metadata": {
    "id": "-UcWt4Y5_LcG"
   },
   "outputs": [],
   "source": [
    "phone_df['screnn_size'] = phone_df['Name'].apply(getscreen)\n",
    "phone_df.replace('', np.nan, inplace=True)"
   ]
  },
  {
   "cell_type": "code",
   "execution_count": 30,
   "metadata": {
    "colab": {
     "base_uri": "https://localhost:8080/"
    },
    "id": "3KSmV8s8_ghT",
    "outputId": "e0cb0321-0898-4bc3-b40b-82d87d0cd50b"
   },
   "outputs": [
    {
     "data": {
      "text/plain": [
       "Name             0\n",
       "Price            0\n",
       "Brand            0\n",
       "RAM              2\n",
       "ROM              2\n",
       "battery_size    58\n",
       "screnn_size      6\n",
       "dtype: int64"
      ]
     },
     "execution_count": 30,
     "metadata": {},
     "output_type": "execute_result"
    }
   ],
   "source": [
    "phone_df.isnull().sum()"
   ]
  },
  {
   "cell_type": "markdown",
   "metadata": {
    "id": "XID_ajaS_u5K"
   },
   "source": [
    "# 2. Data Cleaning"
   ]
  },
  {
   "cell_type": "code",
   "execution_count": 31,
   "metadata": {
    "id": "8TaBs_8c_t65"
   },
   "outputs": [],
   "source": [
    "jumia2=phone_df\n",
    "jumia2.rename(columns={'RAM': 'ram_space2'}, inplace=True)"
   ]
  },
  {
   "cell_type": "markdown",
   "metadata": {
    "id": "o41GO-CW_93k"
   },
   "source": [
    "* Removing unnecessary strings in columns"
   ]
  },
  {
   "cell_type": "code",
   "execution_count": 32,
   "metadata": {
    "colab": {
     "base_uri": "https://localhost:8080/"
    },
    "id": "c8NTUwDg_d92",
    "outputId": "a6be8dd0-f7d7-4d76-fd32-61916ca8b23f"
   },
   "outputs": [
    {
     "name": "stderr",
     "output_type": "stream",
     "text": [
      "C:\\Users\\sinti\\anaconda3\\envs\\rstudio\\lib\\site-packages\\ipykernel_launcher.py:4: FutureWarning: The default value of regex will change from True to False in a future version. In addition, single character regular expressions will *not* be treated as literal strings when regex=True.\n",
      "  after removing the cwd from sys.path.\n"
     ]
    }
   ],
   "source": [
    "jumia2['ram_space2']=jumia2['ram_space2'].str.replace(\"GB\",'')\n",
    "jumia2['ram_space2']=jumia2['ram_space2'].str.replace(\"gb\",'')\n",
    "jumia2['ram_space2']=jumia2['ram_space2'].str.replace(\"RAM\",'')\n",
    "jumia2['ram_space2']=jumia2['ram_space2'].str.replace(\"+\",'')\n",
    "jumia2['ram_space2']=jumia2['ram_space2'].str.replace(\"GM\",'gb')\n",
    "jumia2['ram_space2']=jumia2['ram_space2'].str.replace(\"G\",'gb')\n",
    "jumia2['ram_space2']=jumia2['ram_space2'].str.replace(\"screen2\",'2gb')\n",
    "jumia2['ram_space2']=jumia2['ram_space2'].str.replace(\"24\",'2gb')\n",
    "jumia2['ram_space2']=jumia2['ram_space2'].str.replace(\"28\",'2gb')\n",
    "jumia2['ram_space2']=jumia2['ram_space2'].str.replace(\"26\",'2gb')\n",
    "jumia2['ram_space2']=jumia2['ram_space2'].str.replace(\"23\",'2gb')\n",
    "jumia2['ram_space2']=jumia2['ram_space2'].str.replace(\"16\",'1gb')\n",
    "jumia2['ram_space2'] =jumia2['ram_space2'].astype(str)+'gb'"
   ]
  },
  {
   "cell_type": "code",
   "execution_count": 33,
   "metadata": {
    "id": "wH5pduGiAQDr"
   },
   "outputs": [],
   "source": [
    "jumia2.rename(columns={'ROM': 'storage'}, inplace=True)\n",
    "jumia2['storage'].replace(\" \", \"\", inplace = True)\n",
    "jumia2.rename(columns={'battery_size': 'battery'}, inplace=True)\n",
    "jumia2['battery'].replace(\" \", \"\", inplace = True)\n",
    "jumia2['battery'] = jumia2['battery'].str.lower()\n",
    "jumia2['battery'] = jumia2['battery'].str.replace(\" mah\", 'mah')\n",
    "jumia2['battery'] = jumia2['battery'].str.replace(\"-5000-\", '5000mah')\n",
    "jumia2.rename(columns={'screnn_size': 'screen'}, inplace=True)\n",
    "jumia2['screen'] = jumia2['screen'].str.replace('\"', \"\")\n",
    "jumia2['screen'].replace(\" \", \"\", inplace = True)\n"
   ]
  },
  {
   "cell_type": "markdown",
   "metadata": {
    "id": "fkYoMwvRBBK7"
   },
   "source": [
    "# 3. Visualizing The Dataset"
   ]
  },
  {
   "cell_type": "markdown",
   "metadata": {
    "id": "KQ4bKGf9BR4I"
   },
   "source": [
    "* The distribution of 'Price'"
   ]
  },
  {
   "cell_type": "code",
   "execution_count": 34,
   "metadata": {
    "colab": {
     "base_uri": "https://localhost:8080/",
     "height": 564
    },
    "id": "l5slqMMRBK8n",
    "outputId": "702f75b2-31e0-47d4-9efe-a4525d4dffa5"
   },
   "outputs": [
    {
     "data": {
      "image/png": "[encoded data removed]",
      "text/plain": [
       "<Figure size 576x432 with 1 Axes>"
      ]
     },
     "metadata": {
      "needs_background": "light"
     },
     "output_type": "display_data"
    }
   ],
   "source": [
    "plt.figure(figsize=(8, 6))\n",
    "plt.hist(jumia2['Price'], bins=30, color='blue', edgecolor='black')\n",
    "plt.xlabel('Price')\n",
    "plt.ylabel('Frequency')\n",
    "plt.title('Distribution of Prices')\n",
    "plt.show()"
   ]
  },
  {
   "cell_type": "code",
   "execution_count": 35,
   "metadata": {
    "colab": {
     "base_uri": "https://localhost:8080/",
     "height": 564
    },
    "id": "vlBUtiowBavx",
    "outputId": "556584da-8caf-4f0c-e55e-6dcd5c2984cd"
   },
   "outputs": [
    {
     "data": {
      "image/png": "[encoded data removed]",
      "text/plain": [
       "<Figure size 576x432 with 1 Axes>"
      ]
     },
     "metadata": {
      "needs_background": "light"
     },
     "output_type": "display_data"
    }
   ],
   "source": [
    "plt.figure(figsize=(8, 6))\n",
    "plt.boxplot(jumia2['Price'], vert=False)\n",
    "plt.xlabel('Price')\n",
    "plt.title('Distribution of Prices')\n",
    "plt.show()"
   ]
  },
  {
   "cell_type": "markdown",
   "metadata": {
    "id": "_grElgfVBqTs"
   },
   "source": [
    "* The distribution shows that the Price is partially normally distributed and skewed to the right."
   ]
  },
  {
   "cell_type": "markdown",
   "metadata": {
    "id": "XJmIfEQKBzRQ"
   },
   "source": [
    "* Bar plot of the most available brands :"
   ]
  },
  {
   "cell_type": "code",
   "execution_count": 36,
   "metadata": {
    "colab": {
     "base_uri": "https://localhost:8080/",
     "height": 604
    },
    "id": "ECSZ_knbBgKH",
    "outputId": "8d30bf30-b397-4a27-e564-b51ed0ce8501"
   },
   "outputs": [
    {
     "data": {
      "image/png": "[encoded data removed]",
      "text/plain": [
       "<Figure size 720x432 with 1 Axes>"
      ]
     },
     "metadata": {
      "needs_background": "light"
     },
     "output_type": "display_data"
    }
   ],
   "source": [
    "brand_counts = jumia2['Brand'].value_counts()\n",
    "top_brands = brand_counts.head(10)\n",
    "plt.figure(figsize=(10, 6))\n",
    "top_brands.plot(kind='bar', color='skyblue')\n",
    "plt.xlabel('Brand')\n",
    "plt.ylabel('Count')\n",
    "plt.title('Top 10 Most Available Brands')\n",
    "plt.xticks(rotation=45)\n",
    "plt.show()"
   ]
  },
  {
   "cell_type": "markdown",
   "metadata": {
    "id": "oPnaW1BjCG_m"
   },
   "source": [
    "* The plot shows that the most available brand of phones on Jumia Kenya is Tecno"
   ]
  },
  {
   "cell_type": "markdown",
   "metadata": {
    "id": "O1QdEZbVCRrb"
   },
   "source": [
    "* The average price by RAM size of a phone using a bar plot"
   ]
  },
  {
   "cell_type": "code",
   "execution_count": 37,
   "metadata": {
    "colab": {
     "base_uri": "https://localhost:8080/",
     "height": 591
    },
    "id": "fpMPX0TnCYtM",
    "outputId": "3ed7cefb-17c2-4b70-a998-561edb62eccb"
   },
   "outputs": [
    {
     "data": {
      "image/png": "[encoded data removed]",
      "text/plain": [
       "<Figure size 720x432 with 1 Axes>"
      ]
     },
     "metadata": {
      "needs_background": "light"
     },
     "output_type": "display_data"
    }
   ],
   "source": [
    "average_price_by_ram = jumia2.groupby('ram_space2')['Price'].mean()\n",
    "\n",
    "average_price_by_ram = average_price_by_ram.sort_values(ascending=False)\n",
    "plt.figure(figsize=(10, 6))\n",
    "average_price_by_ram.plot(kind='bar', color='skyblue')\n",
    "plt.xlabel('RAM Size')\n",
    "plt.ylabel('Average Price')\n",
    "plt.title('Average Price by RAM Size')\n",
    "plt.xticks(rotation=45)\n",
    "plt.show()"
   ]
  },
  {
   "cell_type": "markdown",
   "metadata": {
    "id": "s-7ktidPCxcB"
   },
   "source": [
    "* This shows that the phones with higher RAM size are more expensive"
   ]
  },
  {
   "cell_type": "markdown",
   "metadata": {
    "id": "YB3NmKJ8DNeS"
   },
   "source": [
    "* The distribution of the most common Storage capacity with a bar plot"
   ]
  },
  {
   "cell_type": "code",
   "execution_count": 38,
   "metadata": {
    "colab": {
     "base_uri": "https://localhost:8080/",
     "height": 620
    },
    "id": "Nt7QkzyhCwZw",
    "outputId": "31477b5e-4739-4f29-95d4-97fcbdd2ef76"
   },
   "outputs": [
    {
     "data": {
      "image/png": "[encoded data removed]",
      "text/plain": [
       "<Figure size 720x432 with 1 Axes>"
      ]
     },
     "metadata": {
      "needs_background": "light"
     },
     "output_type": "display_data"
    }
   ],
   "source": [
    "rom_counts = jumia2['storage'].value_counts()\n",
    "\n",
    "top_roms = rom_counts.head(10)\n",
    "\n",
    "plt.figure(figsize=(10, 6))\n",
    "top_roms.plot(kind='bar', color='skyblue')\n",
    "plt.xlabel('ROM Size')\n",
    "plt.ylabel('Count')\n",
    "plt.title('Top 10 Most Common ROM Sizes')\n",
    "plt.xticks(rotation=45)\n",
    "plt.show()"
   ]
  },
  {
   "cell_type": "markdown",
   "metadata": {
    "id": "MLxfnrKXER_g"
   },
   "source": [
    "* Plot of average price of each phone brand."
   ]
  },
  {
   "cell_type": "code",
   "execution_count": 39,
   "metadata": {
    "colab": {
     "base_uri": "https://localhost:8080/",
     "height": 609
    },
    "id": "H7bG4OISEOHl",
    "outputId": "3405361e-8a76-4bc6-e31f-61a1996c6ba8"
   },
   "outputs": [
    {
     "data": {
      "image/png": "[encoded data removed]",
      "text/plain": [
       "<Figure size 864x432 with 1 Axes>"
      ]
     },
     "metadata": {
      "needs_background": "light"
     },
     "output_type": "display_data"
    }
   ],
   "source": [
    "average_price_by_brand = jumia2.groupby('Brand')['Price'].mean()\n",
    "average_price_by_brand_sorted = average_price_by_brand.sort_values()\n",
    "\n",
    "plt.figure(figsize=(12, 6))\n",
    "average_price_by_brand_sorted.plot(kind='bar', color='skyblue')\n",
    "plt.xlabel('Brand')\n",
    "plt.ylabel('Average Price')\n",
    "plt.title('Average Price by Phone Brand (Ascending Order)')\n",
    "plt.xticks(rotation=45)\n",
    "plt.show()"
   ]
  },
  {
   "cell_type": "markdown",
   "metadata": {
    "id": "zFF8aaE4EyYk"
   },
   "source": [
    "* Plot of most common battery capacity in phones"
   ]
  },
  {
   "cell_type": "code",
   "execution_count": 40,
   "metadata": {
    "colab": {
     "base_uri": "https://localhost:8080/",
     "height": 607
    },
    "id": "HmnfrxMPFN_d",
    "outputId": "eb33869d-7526-45c1-fb46-0e1bec5fa4e2"
   },
   "outputs": [
    {
     "data": {
      "image/png": "[encoded data removed]",
      "text/plain": [
       "<Figure size 720x432 with 1 Axes>"
      ]
     },
     "metadata": {
      "needs_background": "light"
     },
     "output_type": "display_data"
    }
   ],
   "source": [
    "battery_counts = jumia2['battery'].value_counts()\n",
    "\n",
    "top_battery_sizes = battery_counts.head(10)\n",
    "\n",
    "\n",
    "plt.figure(figsize=(10, 6))\n",
    "top_battery_sizes.plot(kind='bar', color='skyblue')\n",
    "plt.xlabel('Battery Size')\n",
    "plt.ylabel('Count')\n",
    "plt.title('Top 10 Most Common Battery Sizes')\n",
    "plt.xticks(rotation=45)\n",
    "plt.show()\n"
   ]
  }
 ],
 "metadata": {
  "colab": {
   "provenance": []
  },
  "kernelspec": {
   "display_name": "Python 3 (ipykernel)",
   "language": "python",
   "name": "python3"
  },
  "language_info": {
   "codemirror_mode": {
    "name": "ipython",
    "version": 3
   },
   "file_extension": ".py",
   "mimetype": "text/x-python",
   "name": "python",
   "nbconvert_exporter": "python",
   "pygments_lexer": "ipython3",
   "version": "3.7.1"
  }
 },
 "nbformat": 4,
 "nbformat_minor": 1
}
